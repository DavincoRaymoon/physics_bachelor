{
 "metadata": {
  "orig_nbformat": 2,
  "kernelspec": {
   "name": "python38664bitcaaad397cf1847b0ba9330b9c3dfc1cd",
   "display_name": "Python 3.8.6 64-bit"
  }
 },
 "nbformat": 4,
 "nbformat_minor": 2,
 "cells": [
  {
   "source": [
    "# C2 Wegintegrale"
   ],
   "cell_type": "markdown",
   "metadata": {}
  },
  {
   "source": [
    "## Aufgabenteil a)\n",
    "Hier sollen wir unter verwendung des 3d-Paketes MatPlotLib die wege $\\vec r_1$,  $\\vec r_2$ und $\\vec r_3$ Plotten\n",
    "es wurde uns dafuer ein template zur verfuegen gestellt, nach welchem wir uns richten koennen und wollen\n",
    "Die Vektoren sind definiert als\n",
    "\n",
    "$\\vec r_1(t) = \\begin{pmatrix} \\cos(2\\pi t)\\\\ sin(2\\pi t)\\\\ t\\end{pmatrix}$, $\\vec r_2(t) = \\begin{pmatrix} 1 \\\\ 0 \\\\ t\\end{pmatrix}$ , $\\vec r_3(t) = \\begin{pmatrix} 1 - \\frac{1}{2} sin(\\pi t)\\\\ 0 \\\\ \\frac{1}{2}(1 - \\cos(\\pi t))\\end{pmatrix}$\n"
   ],
   "cell_type": "markdown",
   "metadata": {}
  },
  {
   "cell_type": "code",
   "execution_count": null,
   "metadata": {
    "tags": []
   },
   "outputs": [],
   "source": [
    "%matplotlib inline\n",
    "from numpy import pi, cos, sin, linspace, array #nur die benoetigten packages werden importiert, damit unsere parameterkurven besser aussehen\n",
    "import matplotlib.pyplot as plt\n",
    "\n",
    "#Definieren der Bahnkurven r1, r2 und r3\n",
    "def r1(t):\n",
    "    return [cos(2 * pi * t), sin(2 * pi * t), t]\n",
    "\n",
    "def r2(t):\n",
    "    return [1*t*0, 0*t, t] #Wir multiplizieren hier die 1 mit t*0 und die null mit t, damit diese in dem erstellen der Kurven zu arrays werden\n",
    "\n",
    "def r3(t):\n",
    "    return [1 - 1/2 * sin(pi * t), 0*t, 1/2*(1 - cos(pi * t))] #selbes prinzip wie bei r2\n",
    "\n",
    "\n",
    "def plotting(r):\n",
    "    #Plot vorbereiten\n",
    "    fig = plt.figure(figsize=(12,12)) #\n",
    "    ax = fig.gca(projection='3d')\n",
    "\n",
    "    #Achsen des Plot mit einem Namen versehen\n",
    "    ax.set_xlabel(r'x')\n",
    "    ax.set_ylabel(r'y')\n",
    "    ax.set_zlabel(r'z')\n",
    "\n",
    "    #Erstellen der Kurven\n",
    "    times = linspace(0, 5, 300)\n",
    "    curve = array(r(times))\n",
    "\n",
    "    #Plotten\n",
    "    ax.plot(curve[0], curve[1], curve[2], label=r'$\\vec{r}(t)$')\n",
    "\n",
    "    #Legende erstellen\n",
    "    ax.legend()\n",
    "\n",
    "plotting(r1)\n",
    "plotting(r2)\n",
    "plotting(r3)\n",
    "plt.show()"
   ]
  },
  {
   "source": [
    "## Aufgabenteil b)\n",
    "Hier sollen wir die Arbeit des Kraftfeldes $\\vec F(\\vec r) = \\begin{pmatrix} -2xy+z^3\\\\-1-x^2\\\\3xz^2\\end{pmatrix}$, $\\vec r = \\begin{pmatrix} x\\\\y\\\\z\\end{pmatrix}$\n",
    "berechnen \n",
    "als Wegintegral fuer $\\vec r_1, \\vec r_2$ und $\\vec r_3$. Weiterhin sollen wir die Eigenschaft des Kraftfeldes mit diesen Ergebnis nennen.\n",
    "\n",
    "Der Weg des Integrals ist definiert als $t\\in[0,1]$ von $\\begin{pmatrix} 1\\\\0\\\\0\\end{pmatrix}$ nach $\\begin{pmatrix} 1\\\\0\\\\1\\end{pmatrix}$"
   ],
   "cell_type": "markdown",
   "metadata": {}
  },
  {
   "cell_type": "code",
   "execution_count": null,
   "metadata": {},
   "outputs": [],
   "source": [
    "from numpy import sqrt, dot\n",
    "from scipy.integrate import quad\n",
    "\n",
    "#Variablen deklarieren und initialisieren\n",
    "deltaTime = sqrt(0**2+0**2+1**2) #Da der Verbindungsvektor t1-t0 zu (0, 0, 1) wird\n",
    "#Die Paramterkurven werden mit deltaTime initialisiert und der Betrag des Wertes wird genommen\n",
    "r1value = array(r1(deltaTime))\n",
    "r2value = array(r2(deltaTime))\n",
    "r3value = array(r3(deltaTime))\n",
    "\n",
    "#Definieren des Kraftfeldes F(x,y,z)\n",
    "def F(x, y, z):\n",
    "    return [(-2 * x * y + z**3), (-1 - x**2), (3 * x * z**2)]\n",
    "\n",
    "#Definieren der Arbeit des Kraftfeldes\n",
    "def calculatePathIntegral(F, t_0, t_1):\n",
    "    return (quad(F(x,y), t_0, t_1) + quad(F(y,z), t_0, t_1))\n",
    "\n",
    "#Integrationsweg waehlen\n",
    "r_vec = deltaTime*(r3value-r2value-r1value)\n",
    "\n",
    "#Funktion F mit dem Integrationsweg definieren\n",
    "Kraftfeld = F(r_vec[0], r_vec[1], r_vec[2])\n",
    "\n",
    "#Ausrechnen des Integrals\n",
    "pathIntegral = calculatePathIntegral(F, 0, deltaTime)"
   ]
  },
  {
   "source": [
    "### Loesung Aufgabenteil b)\n",
    "Nicht mehr Fertig bekommen.\n",
    "Die Loesung zeigt, dass das Kraftfeld ein Potential besitzt und somit, dass es ein konservatives Kraftfeld ist."
   ],
   "cell_type": "code",
   "metadata": {},
   "execution_count": null,
   "outputs": []
  }
 ]
}