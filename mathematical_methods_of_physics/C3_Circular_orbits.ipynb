{
 "metadata": {
  "language_info": {
   "codemirror_mode": {
    "name": "ipython",
    "version": 3
   },
   "file_extension": ".py",
   "mimetype": "text/x-python",
   "name": "python",
   "nbconvert_exporter": "python",
   "pygments_lexer": "ipython3",
   "version": "3.8.6-final"
  },
  "orig_nbformat": 2,
  "kernelspec": {
   "name": "python38664bitdcdd0334059b41e5a129c6c58abb662f",
   "display_name": "Python 3.8.6 64-bit"
  }
 },
 "nbformat": 4,
 "nbformat_minor": 2,
 "cells": [
  {
   "source": [
    "# C3 Planetenbahnen\n",
    "\n",
    "Jupyter-Notebook Abgabe von Rene-David Brueggemann 10040204 und Batuhan Muslu 10040344.\n",
    "Hier wird Python 3.8.6 64-bit genutzt\n",
    "\n",
    "Die Loesung ist stark inspiriert nach der Aufloesung laut Natt, Oliver,*Physik mit Python*\n",
    "\n",
    "Wir wollen uns davon überzeugen, dass das Kepler-Problem tatsächlich die in der Vorlesung diskutierten Bahnen besitzt. Dafür simulieren wir die Bewegung eines kleineren Planeten im Gravitationsfeld der Sonne. Wir machen die Vereinfachung, dass wir μ ≈ m Planet setzen, und die (sehr viel schwerere) Sonne als fest im Ursprung sitzend annehmen."
   ],
   "cell_type": "code",
   "metadata": {},
   "execution_count": null,
   "outputs": []
  },
  {
   "cell_type": "code",
   "execution_count": null,
   "metadata": {},
   "outputs": [],
   "source": [
    "#Importierung aller notwendigen Bibliotheken\n",
    "from scipy import integrate\n",
    "import numpy as np\n",
    "import matplotlib.pyplot as plt"
   ]
  },
  {
   "source": [
    "### Teilaufgabe a)\n",
    "Simulieren Sie die Bahn der Erde. Als Anfangsbedingung wählen wir Position und Geschwindigkeit der Erde in ihrem Aphel. Sie hat dort einen Abstand von 152.10 · 10^9 m von der Sonne\n",
    "und eine Momentangeschwindigkeit von 29.29 km/s, die im Aphel senkrecht auf dem Ortsvektor steht. Es ist sinnvoll, die Simulation in Astronomischen Einheiten durchzuführen, definiert als\n",
    "1 AE = 1.495 979 707*10^11 m. Eine Astronomische Einheit ist die mittlere Entfernung der Erde\n",
    "von der Sonne. Da wir wissen, dass die Bewegung in einer Ebene stattfindet, können wir die Bewegungsgleichung als zweidimensionales Problem formulieren. Lösen Sie dieses mit Hilfe von scipy.integrate.solve_ivp aus dem SciPy Module. Führen Sie die Simulation für 5 Jahre durch,\n",
    "wählen Sie eine Schrittweite von 1 Tag. Damit die Lösung ausreichend genau wird, übergeben Sie\n",
    "der Funktion solve_ivp die Option rtol=1e-9 , die die Fehlerschranke sehr klein wählt."
   ],
   "cell_type": "markdown",
   "metadata": {}
  },
  {
   "cell_type": "code",
   "execution_count": null,
   "metadata": {},
   "outputs": [],
   "source": [
    "#Variablen deklarieren und initialisieren\n",
    "\n",
    "j = 365 #1 Jahr [d]\n",
    "AE = 1.495979707e11 #Astronomische Einheit [m]\n",
    "\n",
    "#Simulationsdauer T und Schrittweite dt\n",
    "dt = 1 #Schrittweite [d]\n",
    "\n",
    "T = 5*j #Periode [j]\n",
    "\n",
    "M =  1.9885e30 #Masse der Sonne M [kg]\n",
    "\n",
    "G = 6.6743015e-11 * (60*60*24)**2/ AE**3 #Gravitationskonstante \n",
    "\n",
    "\n",
    "#Gegebene Anfangsvariablen definieren\n",
    "r0 =  np.array([152.10e9 / AE, 0.0]) #Entfernung der Erde von der Sonne im Aphel [AE]\n",
    "\n",
    "v0 = np.array([0.0, 29.29 * 60*60*24*1000/AE]) #Momentangeschwindigkeit der Erde im Aphel in [AE/d]\n",
    "\n",
    "\n",
    "#Bewegungsgleichung definieren\n",
    "def f(t, u):\n",
    "    r, v = np.split(u, 2)\n",
    "    a = - G * M * r / np.linalg.norm(r)**3\n",
    "    return np.concatenate([v, a])\n",
    "\n",
    "\n",
    "#Zustandsvektor zum Zeitpunkt t=0 festlegen\n",
    "u0 = np.concatenate((r0, v0))\n",
    "\n",
    "#Loesung der Differentialgleichung mit scipy ausrechnen mit der option rtol=1e-9\n",
    "solution = integrate.solve_ivp(f, [0, T], u0, rtol=1e-9)\n",
    "\n",
    "#Loesungen in r_s und v_s uebergeben\n",
    "r_s, v_s = np.split(solution.y, 2)\n",
    "\n",
    "#Erzeugen einer Figur und Axis\n",
    "fig = plt.figure()\n",
    "ax = fig.add_subplot(1,1,1)\n",
    "ax.set_xlabel('x [AE] ')\n",
    "ax.set_ylabel('y [AE] ')\n",
    "ax.set_xlim(-1.5, 1.5)\n",
    "ax.set_ylim(-1.5, 1.5)\n",
    "ax.grid()\n",
    "\n",
    "#Plotten der Bahnkurve der Erde\n",
    "ax.plot(r_s[0], r_s[1], 'b')\n",
    "plt.show"
   ]
  },
  {
   "source": [
    "### Teilaufgabe b)\n",
    "Wiederholen Sie die Simulation für Merkur. Die Dauer sollte jetzt ein Erdjahr betragen, die Schrittweite wieder ein Erdtag. Sein Abstand zur Sonne im Aphel beträgt 0.466 697 AE. Der Merkur hat dort eine Geschwindigkeit von 38.8586 km/s. Sie sollten herausfinden, dass die Bahn des Merkur deutlich stärker elliptisch ist, als die der Erde. Gegebenenfalls müssen Sie durch Optionen für solve_ivp die Genauigkeit weiter steigern."
   ],
   "cell_type": "markdown",
   "metadata": {}
  },
  {
   "source": [
    "#Gegebene Anfangsvariablen definieren\n",
    "rm0 = np.array([0.466697, 0.0])\n",
    "vm0 = np.array([0.0, 38.8586 * 60*60*24*1000/AE])\n",
    "\n",
    "#Zustandsvektor zum Zeitpunkt t=0 festlegen\n",
    "um0 = np.concatenate((rm0, vm0))\n",
    "\n",
    "#Loesen der Differentialgleichung \n",
    "solution_m = integrate.solve_ivp(f, [0, T/5], um0, rtol=1e-9)\n",
    "\n",
    "r_ms, v_ms = np.split(solution_m.y, 2)\n",
    "\n",
    "#Erzeugen einer Figur und Axis\n",
    "fig = plt.figure()\n",
    "bx = fig.add_subplot(1,1,1)\n",
    "bx.set_xlabel('x [AE] ')\n",
    "bx.set_ylabel('y [AE] ')\n",
    "bx.set_xlim(-1.5, 1.5)\n",
    "bx.set_ylim(-1.5, 1.5)\n",
    "bx.grid()\n",
    "\n",
    "#Plotten der Bahnkurve des Merkurs\n",
    "bx.plot(r_ms[0], r_ms[1])\n",
    "plt.show"
   ],
   "cell_type": "code",
   "metadata": {},
   "execution_count": null,
   "outputs": []
  },
  {
   "source": [
    "### Teilaufgabe c)\n",
    "Fügen Sie dem Zentralpotential einen Term −γ/r 3 ähnlich wie in [P18] hinzu. Dies führt zu einer zusätzlichen Kraft F ~ ART = −γ ~r/r 5 . Simulieren Sie die Bewegung des Merkurs für ein Erdjahr, wählen Sie als Schrittweite wieder einen Tag. Probieren Sie verschiedene Werte für γ. Mit etwas Glück ergeben sich statt einer Ellipse Rosetten. Bemerkung: In der Tat dreht sich das Perihel des Merkurs im Laufe der Zeit langsam. Der größte Anteil dieser Periheldrehung geht allerdings auf den Einfluss der anderen Planeten als Störung zum Zweikörper-Problem zurück. Jedoch ergab sich im Laufe der Zeit eine signifikante Abweichung der Beobachtung vom theoretisch vorhergesagten Wert, der durch Einsteins allgemeine Relativitätstheorie letztendlich im Rahmen der Messgenauigkeit exakt erklärt wird."
   ],
   "cell_type": "markdown",
   "metadata": {}
  },
  {
   "cell_type": "code",
   "execution_count": null,
   "metadata": {},
   "outputs": [],
   "source": [
    "gamma = 3.21401e2\n",
    "\n",
    "#Bewegungsgleichung definieren\n",
    "def F(t, u):\n",
    "    r, v = np.split(u, 2)\n",
    "    a = - (G * M * r / np.linalg.norm(r)**3) - gamma * r / np.linalg.norm(r)**3\n",
    "    return np.concatenate([v, a])\n",
    "\n",
    "#Loesen der neuen Bewegungsgleichung mit den \n",
    "result = integrate.solve_ivp(F, [0, T/5], um0, rtol=1e-9)\n",
    "\n",
    "r_arts, v_arts = np.split(result.y, 2)\n",
    "\n",
    "fig = plt.figure()\n",
    "cx = fig.add_subplot(1,1,1)\n",
    "cx.set_xlabel('x [AE] ')\n",
    "cx.set_ylabel('y [AE] ')\n",
    "cx.set_xlim(-1.5, 1.5)\n",
    "cx.set_ylim(-1.5, 1.5)\n",
    "cx.grid()\n",
    "\n",
    "cx.plot(r_arts[0], r_arts[1])\n",
    "plt.show"
   ]
  },
  {
   "cell_type": "code",
   "execution_count": null,
   "metadata": {},
   "outputs": [],
   "source": []
  }
 ]
}