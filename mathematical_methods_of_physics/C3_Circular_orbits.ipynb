{
 "metadata": {
  "language_info": {
   "codemirror_mode": {
    "name": "ipython",
    "version": 3
   },
   "file_extension": ".py",
   "mimetype": "text/x-python",
   "name": "python",
   "nbconvert_exporter": "python",
   "pygments_lexer": "ipython3",
   "version": "3.8.6-final"
  },
  "orig_nbformat": 2,
  "kernelspec": {
   "name": "python38664bitdcdd0334059b41e5a129c6c58abb662f",
   "display_name": "Python 3.8.6 64-bit"
  }
 },
 "nbformat": 4,
 "nbformat_minor": 2,
 "cells": [
  {
   "source": [
    "# C3 Planetenbahnen\n",
    "\n",
    "Jupyter-Notebook Abgabe von Rene-David Brueggemann 10040204 und Batuhan Muslu 10040344.\n",
    "Hier wird Python 3.8.6 64-bit genutzt\n",
    "\n",
    "Wir wollen uns davon überzeugen, dass das Kepler-Problem tatsächlich die in der Vorlesung diskutierten Bahnen besitzt. Dafür simulieren wir die Bewegung eines kleineren Planeten im Gravitationsfeld der Sonne. Wir machen die Vereinfachung, dass wir μ ≈ m Planet setzen, und die (sehr viel schwerere) Sonne als fest im Ursprung sitzend annehmen."
   ],
   "cell_type": "markdown",
   "metadata": {}
  },
  {
   "source": [
    "### Teilaufgabe a)\n",
    "Simulieren Sie die Bahn der Erde. Als Anfangsbedingung wählen wir Position und Geschwindigkeit der Erde in ihrem Aphel. Sie hat dort einen Abstand von 152.10 · 10^9 m von der Sonne\n",
    "und eine Momentangeschwindigkeit von 29.29 km/s, die im Aphel senkrecht auf dem Ortsvektor steht. Es ist sinnvoll, die Simulation in Astronomischen Einheiten durchzuführen, definiert als\n",
    "1 AE = 1.495 979 707*10^11 m. Eine Astronomische Einheit ist die mittlere Entfernung der Erde\n",
    "von der Sonne. Da wir wissen, dass die Bewegung in einer Ebene stattfindet, können wir die Bewegungsgleichung als zweidimensionales Problem formulieren. Lösen Sie dieses mit Hilfe von scipy.integrate.solve_ivp aus dem SciPy Module. Führen Sie die Simulation für 5 Jahre durch,\n",
    "wählen Sie eine Schrittweite von 1 Tag. Damit die Lösung ausreichend genau wird, übergeben Sie\n",
    "der Funktion solve_ivp die Option rtol=1e-9 , die die Fehlerschranke sehr klein wählt."
   ],
   "cell_type": "markdown",
   "metadata": {}
  },
  {
   "cell_type": "code",
   "execution_count": null,
   "metadata": {},
   "outputs": [],
   "source": [
    "import numpy as np\n",
    "import scipy as sp\n",
    "\n",
    "#Variablen deklarieren und initialisieren\n",
    "a =  152.10e9 / 1.495979707e11   #Entfernung der Erde von der Sonne im Aphel in AE\n",
    "v_moment = 29.29 / 60*60*24 / 1.495979707e8 #Momentangeschwindigkeit der Erde im Aphel in AE/d\n",
    "\n",
    "#Funktion der Bewegung als Vektor definieren\n",
    "def f(t):\n",
    "    return\n",
    "\n",
    "#Loesung der Differentialgleichung mit scipy ausrechnen mit der option rtol=1e-9\n",
    "solution = sp.integrate.solve_ivp()\n",
    "print(solution)"
   ]
  },
  {
   "source": [
    "### Teilaufgabe b)\n",
    "Wiederholen Sie die Simulation für Merkur. Die Dauer sollte jetzt ein Erdjahr betragen, die Schrittweite wieder ein Erdtag. Sein Abstand zur Sonne im Aphel beträgt 0.466 697 AE. Der Merkur hat dort eine Geschwindigkeit von 38.8586 km/s. Sie sollten herausfinden, dass die Bahn des Merkur deutlich stärker elliptisch ist, als die der Erde. Gegebenenfalls müssen Sie durch Optionen für solve_ivp die Genauigkeit weiter steigern."
   ],
   "cell_type": "markdown",
   "metadata": {}
  },
  {
   "cell_type": "code",
   "execution_count": null,
   "metadata": {},
   "outputs": [],
   "source": []
  },
  {
   "source": [
    "### Teilaufgabe c)\n",
    "Fügen Sie dem Zentralpotential einen Term −γ/r 3 ähnlich wie in [P18] hinzu. Dies führt zu einer\n",
    "zusätzlichen Kraft F ~ ART = −γ ~r/r 5 . Simulieren Sie die Bewegung des Merkurs für ein Erdjahr,\n",
    "wählen Sie als Schrittweite wieder einen Tag. Probieren Sie verschiedene Werte für γ. Mit etwas\n",
    "Glück ergeben sich statt einer Ellipse Rosetten.\n",
    "Bemerkung: In der Tat dreht sich das Perihel des Merkurs im Laufe der Zeit langsam. Der größte\n",
    "Anteil dieser Periheldrehung geht allerdings auf den Einfluss der anderen Planeten als Störung zum\n",
    "Zweikörper-Problem zurück. Jedoch ergab sich im Laufe der Zeit eine signifikante Abweichung\n",
    "der Beobachtung vom theoretisch vorhergesagten Wert, der durch Einsteins allgemeine Relativi-\n",
    "tätstheorie letztendlich im Rahmen der Messgenauigkeit exakt erklärt wird."
   ],
   "cell_type": "markdown",
   "metadata": {}
  },
  {
   "cell_type": "code",
   "execution_count": null,
   "metadata": {},
   "outputs": [],
   "source": []
  }
 ]
}