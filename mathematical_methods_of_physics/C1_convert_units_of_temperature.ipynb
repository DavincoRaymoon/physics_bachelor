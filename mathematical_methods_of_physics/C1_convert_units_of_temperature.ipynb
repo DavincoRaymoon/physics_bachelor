{
 "metadata": {
  "language_info": {
   "codemirror_mode": {
    "name": "ipython",
    "version": 3
   },
   "file_extension": ".py",
   "mimetype": "text/x-python",
   "name": "python",
   "nbconvert_exporter": "python",
   "pygments_lexer": "ipython3",
   "version": "3.8.6-final"
  },
  "orig_nbformat": 2,
  "kernelspec": {
   "name": "Python 3.8.6 64-bit",
   "display_name": "Python 3.8.6 64-bit",
   "metadata": {
    "interpreter": {
     "hash": "767d51c1340bd893661ea55ea3124f6de3c7a262a8b4abca0554b478b1e2ff90"
    }
   }
  }
 },
 "nbformat": 4,
 "nbformat_minor": 2,
 "cells": [
  {
   "source": [
    "#Computeruebung C1\n",
    "###Die Aufgabe bestand darin, eine gegebene Einheit der Temperatur zu nehmen und diese dann in eine andere Einheit umzurechnen\n",
    "##Teilaufgabe a)\n",
    "###Bei dieser Aufgabe sollten wir eine Funktion erstellen, welche einen Wert in Celsius erwartet und dann in Fahrenheit umrechnet. Wir haben uns dafuer \n",
    "###entschieden, den Nutzer eine Wahl zu lassen, ob er ein Celsius-Wert in Fahrenheit umrechnen will oder vice versa. Aus diesen Grund kann der Test nur\n",
    "#haendisch stattfinden"
   ],
   "cell_type": "code",
   "metadata": {},
   "execution_count": 2,
   "outputs": []
  },
  {
   "cell_type": "code",
   "execution_count": 3,
   "metadata": {
    "tags": []
   },
   "outputs": [
    {
     "output_type": "stream",
     "name": "stdout",
     "text": "Temperatur in Fahrenheit: 89.6\n"
    }
   ],
   "source": [
    "opp = str(input(\"Wählen Sie ihre operation (F , C)\"))\n",
    "\n",
    "if opp == \"F\":\n",
    "    C = float(input(\"Temperatur in °C angeben >>\"))\n",
    "    \n",
    "    print(\"Temperatur in Fahrenheit:\", round(((9 / 5) * C + 32), 2)) \n",
    "\n",
    "elif opp == \"C\":\n",
    "    F = float(input(\"Temperatur in °F angeben >>\"))\n",
    "\n",
    "    print(\"Temperatur in Celsius:\", round(((F - 32) * (5 / 9)), 2))"
   ]
  },
  {
   "cell_type": "code",
   "execution_count": null,
   "metadata": {},
   "outputs": [],
   "source": [
    "##Teilaufgabe b)\n",
    "###hier sollen wir eine Tabelle erstellen mit allen Fahrenheit-Werten von -20 bis +100 in 5er-Schritten und deren jeweiliger umrechnung in Celsius"
   ]
  },
  {
   "cell_type": "code",
   "execution_count": 4,
   "metadata": {
    "tags": []
   },
   "outputs": [
    {
     "output_type": "stream",
     "name": "stdout",
     "text": "\nFahrenheit\tCelsius\n-20 \t\t -28.89\n-15 \t\t -26.11\n-10 \t\t -23.33\n-5 \t\t -20.56\n0 \t\t -17.78\n5 \t\t -15.0\n10 \t\t -12.22\n15 \t\t -9.44\n20 \t\t -6.67\n25 \t\t -3.89\n30 \t\t -1.11\n35 \t\t 1.67\n40 \t\t 4.44\n45 \t\t 7.22\n50 \t\t 10.0\n55 \t\t 12.78\n60 \t\t 15.56\n65 \t\t 18.33\n70 \t\t 21.11\n75 \t\t 23.89\n80 \t\t 26.67\n85 \t\t 29.44\n90 \t\t 32.22\n95 \t\t 35.0\n100 \t\t 37.78\n"
    }
   ],
   "source": [
    "def transformationVonFahrenheitZuCelsius(F):\n",
    "    return round((F - 32) * (5 / 9), 2)\n",
    "\n",
    "print(\"\\nFahrenheit\\tCelsius\")\n",
    "\n",
    "F = -20\n",
    "while F <= 100+1:\n",
    "    C = transformationVonFahrenheitZuCelsius(F)\n",
    "    print(F, \"\\t\\t\", C)\n",
    "    F += 5\n"
   ]
  }
 ]
}